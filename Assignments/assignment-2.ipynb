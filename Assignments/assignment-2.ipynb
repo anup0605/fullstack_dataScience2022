{
 "cells": [
  {
   "cell_type": "code",
   "execution_count": null,
   "id": "d1644406",
   "metadata": {},
   "outputs": [],
   "source": [
    "1.What are the two values of the Boolean data type? How do you write them?\n",
    "    @)True & False, Both are used for relational & logical operators. \n"
   ]
  },
  {
   "cell_type": "code",
   "execution_count": null,
   "id": "cbd6a3b0",
   "metadata": {},
   "outputs": [],
   "source": [
    "2. What are the three different types of Boolean operators?\n",
    " @)AND(1,1>>1),OR(0,1>>1) & NOT(0,0>>1)\n"
   ]
  },
  {
   "cell_type": "code",
   "execution_count": null,
   "id": "de15dd20",
   "metadata": {},
   "outputs": [],
   "source": [
    "3. Make a list of each Boolean operator's truth tables (i.e. every possible combination of Boolean values for the operator and what it evaluate ).\n",
    "AND:            OR:                  NOT:\n",
    "x\tY\tO/P     x\tY\tO/p             input\tO/P\n",
    "0\t0\t0       0\t0\t0                  0\t1\n",
    "0\t1\t0       0\t1\t1                  1\t0\n",
    "1\t0\t        1\t0\t1\n",
    "1\t1\t1       1\t1\t1\n",
    "\n"
   ]
  },
  {
   "cell_type": "code",
   "execution_count": null,
   "id": "663e18bc",
   "metadata": {},
   "outputs": [],
   "source": [
    "4. What are the values of the following expressions?\n",
    "(5 > 4) and (3 == 5) =False\n",
    "not (5 > 4)=False\n",
    "(5 > 4) or (3 == 5)=False\n",
    "not ((5 > 4) or (3 == 5))=False\n",
    "(True and True) and (True == False)=False\n",
    "(not False) or (not True)=True\n"
   ]
  },
  {
   "cell_type": "code",
   "execution_count": null,
   "id": "e36aaed2",
   "metadata": {},
   "outputs": [],
   "source": [
    "5. What are the six comparison operators?\n",
    "    @)<,<=,>,>=,==,!=\n"
   ]
  },
  {
   "cell_type": "code",
   "execution_count": null,
   "id": "bd557799",
   "metadata": {},
   "outputs": [],
   "source": [
    "6. How do you tell the difference between the equal to and assignment operators?Describe a condition and when you would use one.\n",
    "      @) The “=” is an assignment operator is used to assign the value on the right to the variable on the left. The '==' operator checks whether the two given operands are equal or not. If so, it returns true. Otherwise, it returns false.\n"
   ]
  },
  {
   "cell_type": "code",
   "execution_count": 2,
   "id": "ffc94352",
   "metadata": {},
   "outputs": [
    {
     "name": "stdout",
     "output_type": "stream",
     "text": [
      "ham\n",
      "spam\n",
      "spam\n"
     ]
    }
   ],
   "source": [
    "7. Identify the three blocks in this code:\n",
    "spam = 0\n",
    "if spam == 10:\n",
    "    print(\"eggs\")\n",
    "if spam > 5:\n",
    "    print('bacon')\n",
    "else:\n",
    "    print('ham')\n",
    "    print('spam')\n",
    "    print('spam')\n"
   ]
  },
  {
   "cell_type": "code",
   "execution_count": 7,
   "id": "33e0690b",
   "metadata": {},
   "outputs": [
    {
     "name": "stdout",
     "output_type": "stream",
     "text": [
      "Enter spam number\n",
      "\n",
      "4\n",
      "Greetings!\n"
     ]
    }
   ],
   "source": [
    "\n",
    "print(\"Enter spam number\\n\")\n",
    "spam = int(input())\n",
    "if spam == 1:\n",
    "    print('hello')\n",
    "elif spam == 2:\n",
    "    print('Howdy')\n",
    "else:\n",
    "    print('Greetings!')\n"
   ]
  },
  {
   "cell_type": "code",
   "execution_count": null,
   "id": "62edcc2e",
   "metadata": {},
   "outputs": [],
   "source": [
    "9.If your programme is stuck in an endless loop, what keys you’ll press?\n",
    "@) ctrl+ c\n"
   ]
  },
  {
   "cell_type": "code",
   "execution_count": null,
   "id": "776b74e7",
   "metadata": {},
   "outputs": [],
   "source": [
    "10. How can you tell the difference between break and continue?\n",
    "@)Break: Stop continuation of the loop in program\n",
    "Continue: It can stop the current block of execution & it cannot stop continuous loop execution   "
   ]
  },
  {
   "cell_type": "code",
   "execution_count": null,
   "id": "5454eea7",
   "metadata": {},
   "outputs": [],
   "source": [
    "11. In a for loop, what is the difference between range(10), range(0, 10), and range(0, 10, 1)?\n",
    "@) range(10):-continuous iterators.  range(0, 10):-start & stop point here. range(0, 10,1):-start      ,Stop & step \n"
   ]
  },
  {
   "cell_type": "code",
   "execution_count": null,
   "id": "96508aec",
   "metadata": {},
   "outputs": [],
   "source": [
    "12. Write a short program that prints the numbers 1 to 10 using a for loop. Then write an equivalent program that prints the numbers 1 to 10 using a while loop.\n",
    "@) for i in range(1,11):\n",
    "    print(i)\n",
    "\n",
    "i=1\n",
    "while i<11:\n",
    "    print(i)\n",
    "    i+=1\n"
   ]
  },
  {
   "cell_type": "code",
   "execution_count": null,
   "id": "299a07be",
   "metadata": {},
   "outputs": [],
   "source": [
    "13. If you had a function named bacon() inside a module named spam, how would you call it after importing spam?\n",
    "@)import spam.bacon()\n"
   ]
  }
 ],
 "metadata": {
  "kernelspec": {
   "display_name": "Python 3 (ipykernel)",
   "language": "python",
   "name": "python3"
  },
  "language_info": {
   "codemirror_mode": {
    "name": "ipython",
    "version": 3
   },
   "file_extension": ".py",
   "mimetype": "text/x-python",
   "name": "python",
   "nbconvert_exporter": "python",
   "pygments_lexer": "ipython3",
   "version": "3.9.7"
  }
 },
 "nbformat": 4,
 "nbformat_minor": 5
}
