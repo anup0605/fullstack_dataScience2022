{
 "cells": [
  {
   "cell_type": "markdown",
   "id": "d3a744d2",
   "metadata": {},
   "source": [
    "#### 1. To what does a relative path refer?\n",
    "ans:A relative path refers to a location that is relative to a current directory. Relative paths make use of two special symbols, a dot (.) and a double-dot (..), which translate into the current directory and the parent directory. Double dots are used for moving up in the hierarchy."
   ]
  },
  {
   "cell_type": "markdown",
   "id": "eb322b0e",
   "metadata": {},
   "source": [
    "### 2. What does an absolute path start with your operating system?\n",
    "ans: An absolute path is a path that contains the entire path to the file or directory that you need to access. This path will begin at the home directory of your computer and will end with the file or directory that you wish to access"
   ]
  },
  {
   "cell_type": "markdown",
   "id": "4900dd16",
   "metadata": {},
   "source": [
    "### 3. What do the functions os.getcwd() and os.chdir() do?\n",
    "ans: os.getcwd() returns the absolute path of the current working directory where Python is running as a string str . getcwd stands for \"get current working directory\", and the Unix command pwd stands for \"print working directory\". Of course, you can print the current working directory with os.\n",
    "\n",
    "chdir() method in Python used to change the current working directory to specified path. It takes only a single argument as new directory path."
   ]
  },
  {
   "cell_type": "markdown",
   "id": "96526d5d",
   "metadata": {},
   "source": [
    "#### 4. What are the . and .. folders?\n",
    "ans:Relative paths make use of two special symbols, a dot (.) and a double-dot (..), which translate into the current directory and the parent directory. Double dots are used for moving up in the hierarchy."
   ]
  },
  {
   "cell_type": "markdown",
   "id": "823d19b5",
   "metadata": {},
   "source": [
    "#### 5. In C:\\bacon\\eggs\\spam.txt, which part is the dir name, and which part is the base name?\n",
    "ans:C:\\bacon\\eggs is the dir name, while spam. txt is the base name. An existing file opened in write mode is erased and completely overwritten."
   ]
  },
  {
   "cell_type": "markdown",
   "id": "fa2cdf56",
   "metadata": {},
   "source": [
    "### 6. What are the three “mode” arguments that can be passed to the open() function?\n",
    "ans:The access modes available for the open() function are as follows: \n",
    "r : Opens the file in read-only mode. Starts reading from the beginning of the file and is the default mode for the open() function.\n",
    "rb : Opens the file as read-only in binary format and starts reading from the beginning of the file."
   ]
  },
  {
   "cell_type": "markdown",
   "id": "f1576c8f",
   "metadata": {},
   "source": [
    "### 7. What happens if an existing file is opened in write mode?\n",
    "ans:If a file with the same name already exists, its contents are discarded and the file is treated as a new empty file."
   ]
  },
  {
   "cell_type": "markdown",
   "id": "91a48847",
   "metadata": {},
   "source": [
    "### 8. How do you tell the difference between read() and readlines()?\n",
    "ans:read() will read the whole file at once and then print out the first characters that take up as many bytes as you specify in the parenthesis versus the readline() that will read and print out only the first characters that take up as many bytes as you specify in the parenthesis."
   ]
  },
  {
   "cell_type": "markdown",
   "id": "549895c0",
   "metadata": {},
   "source": [
    "### 9. What data structure does a shelf value resemble?\n",
    "ans:A shelf value resembles a dictionary value; it has keys and values, along with keys() and values() methods that work similarly to the dictionary methods of the same names."
   ]
  },
  {
   "cell_type": "code",
   "execution_count": null,
   "id": "d2c5d0e1",
   "metadata": {},
   "outputs": [],
   "source": []
  }
 ],
 "metadata": {
  "kernelspec": {
   "display_name": "Python 3 (ipykernel)",
   "language": "python",
   "name": "python3"
  },
  "language_info": {
   "codemirror_mode": {
    "name": "ipython",
    "version": 3
   },
   "file_extension": ".py",
   "mimetype": "text/x-python",
   "name": "python",
   "nbconvert_exporter": "python",
   "pygments_lexer": "ipython3",
   "version": "3.9.12"
  }
 },
 "nbformat": 4,
 "nbformat_minor": 5
}
