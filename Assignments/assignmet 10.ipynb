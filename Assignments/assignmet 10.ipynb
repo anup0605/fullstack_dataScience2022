{
 "cells": [
  {
   "cell_type": "markdown",
   "id": "98c891d7",
   "metadata": {},
   "source": [
    "### 1. How do you distinguish between shutil.copy() and shutil.copytree()?\n",
    "ans: shutil. copy() will copy a single file, shutil. copytree() will copy an entire folder and every folder and file contained in it."
   ]
  },
  {
   "cell_type": "markdown",
   "id": "6b053bab",
   "metadata": {},
   "source": [
    "### 2. What function is used to rename files?\n",
    "ans:rename() method in Python is used to rename a file or directory. This method renames a source file/ directory to specified destination file/directory"
   ]
  },
  {
   "cell_type": "markdown",
   "id": "3087ac5c",
   "metadata": {},
   "source": [
    "### 3. What is the difference between the delete functions in the send2trash and shutil modules?\n",
    "ans:The send2trash functions will move a file or folder to the recycle bin, \n",
    "    while shutil functions will permanently delete files and folders."
   ]
  },
  {
   "cell_type": "markdown",
   "id": "8fb19517",
   "metadata": {},
   "source": [
    "#### 4.ZipFile objects have a close() method just like File objects’ close() method. What ZipFile method is equivalent to File objects’ open() method?\n",
    "ans:The zipfile. ZipFile() function is equivalent to the open() function; the first argument is the filename, and the second argument is the mode to open the ZIP file in (read, write, or append)."
   ]
  },
  {
   "cell_type": "markdown",
   "id": "c51c5506",
   "metadata": {},
   "source": [
    "### 5. Create a programme that searches a folder tree for files with a certain file extension (such as .pdf or .jpg). Copy these files from whatever location they are in to a new folder."
   ]
  },
  {
   "cell_type": "code",
   "execution_count": 17,
   "id": "de49bc36",
   "metadata": {},
   "outputs": [
    {
     "name": "stdout",
     "output_type": "stream",
     "text": [
      "Choose which files to be copied. Please select one of: .txt, .jpeg, .pdf, .jpg\n",
      ".pdf\n",
      "Creating Assignments_copy_1...\n",
      "We're in C:\\Users\\anupk\\Desktop\\fullstack_dataScience2022\\Assignments...\n",
      "We're in C:\\Users\\anupk\\Desktop\\fullstack_dataScience2022\\Assignments\\.ipynb_checkpoints...\n",
      "We're in C:\\Users\\anupk\\Desktop\\fullstack_dataScience2022\\Assignments\\randomFolder...\n",
      "Done.\n"
     ]
    }
   ],
   "source": [
    "from pathlib import Path\n",
    "import pyinputplus as pyip\n",
    "import os\n",
    "import time\n",
    "import shutil\n",
    "\n",
    "def selectiveCopy(folder):\n",
    "     # Make sure the path is absolute path\n",
    "     folder = os.path.abspath(folder)\n",
    "\n",
    "     # Choose what files will be copied (txt, jpg)\n",
    "     print(\"Choose which files to be copied. \", end = \"\")\n",
    "     fileExtension = pyip.inputChoice([\".txt\", \".jpeg\", \".pdf\", \".jpg\"])\n",
    "\n",
    "     # Figure out what filename this folder should use based on what folder name exists\n",
    "     number = 1\n",
    "     while True:\n",
    "          newFolder = os.path.basename(folder) + \"_copy_\" + str(number)\n",
    "          if not os.path.exists(newFolder):\n",
    "               break\n",
    "          number += 1\n",
    "\n",
    "     # Create the new folder name\n",
    "     print(f\"Creating {newFolder}...\")\n",
    "     os.mkdir(newFolder)\n",
    "     time.sleep(1)\n",
    "\n",
    "     # Walk through the folder tree and copy the files in a new directory\n",
    "     for foldername, subfolders, files in os.walk(folder):\n",
    "          if newFolder in subfolders:\n",
    "               subfolders.remove(newFolder)\n",
    "          print(f\"We're in {foldername}...\")\n",
    "          time.sleep(1)\n",
    "\n",
    "          for file in files:\n",
    "               if file.endswith(fileExtension):\n",
    "                    print(f\"Copying {file} in {newFolder}...\")\n",
    "                    shutil.copy(os.path.join(foldername, file), newFolder)\n",
    "                    time.sleep(1)\n",
    "\n",
    "     print(\"Done.\")\n",
    "\n",
    "if __name__ == \"__main__\":\n",
    "    selectiveCopy(Path.cwd())"
   ]
  },
  {
   "cell_type": "code",
   "execution_count": 16,
   "id": "6866e2e0",
   "metadata": {},
   "outputs": [
    {
     "data": {
      "text/plain": [
       "[1, 23, 'f', 'r', 6, 7, 8, '9fh', 'u']"
      ]
     },
     "execution_count": 16,
     "metadata": {},
     "output_type": "execute_result"
    }
   ],
   "source": [
    "list1=[1,23,'f','r']\n",
    "list1.extend([6,7,8,'9fh','u'])\n",
    "\n",
    "list1"
   ]
  },
  {
   "cell_type": "code",
   "execution_count": null,
   "id": "647d7362",
   "metadata": {},
   "outputs": [],
   "source": []
  }
 ],
 "metadata": {
  "kernelspec": {
   "display_name": "Python 3 (ipykernel)",
   "language": "python",
   "name": "python3"
  },
  "language_info": {
   "codemirror_mode": {
    "name": "ipython",
    "version": 3
   },
   "file_extension": ".py",
   "mimetype": "text/x-python",
   "name": "python",
   "nbconvert_exporter": "python",
   "pygments_lexer": "ipython3",
   "version": "3.9.12"
  }
 },
 "nbformat": 4,
 "nbformat_minor": 5
}
