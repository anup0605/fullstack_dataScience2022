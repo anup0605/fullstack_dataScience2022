{
 "cells": [
  {
   "cell_type": "code",
   "execution_count": null,
   "id": "42dba9c5",
   "metadata": {},
   "outputs": [],
   "source": [
    "1. What are escape characters, and how do you use them?\n",
    "Ans:The characters which have some unique functionality, such characters are called special characters.\n",
    "    \n",
    "2. What do the escape characters n and t stand for?    \n",
    "3. What is the way to include backslash characters in a string?"
   ]
  },
  {
   "cell_type": "code",
   "execution_count": null,
   "id": "6bd37faf",
   "metadata": {},
   "outputs": [],
   "source": [
    "\\n - Newline\n",
    "\\t- Horizontal tab\n",
    "\\r- Carriage return\n",
    "\\b- Backspace\n",
    "\\f- Form feed\n",
    "\\'- Single Quote\n",
    "\\\"- double quote\n",
    "\\\\-Backslash\n",
    "\\v -vertical tab\n",
    "\\N - N is the number for Unicode character\n",
    "\\NNN - NNN is digits for Octal value\n",
    "\\xNN - NN is a hex value; \\x is used to denote following is a hex value.\n",
    "\\a - bell sound, actually default chime"
   ]
  },
  {
   "cell_type": "code",
   "execution_count": 2,
   "id": "4262e9ca",
   "metadata": {},
   "outputs": [
    {
     "name": "stdout",
     "output_type": "stream",
     "text": [
      "chercher\n",
      "tech\n"
     ]
    }
   ],
   "source": [
    "print(\"chercher\\ntech\")"
   ]
  },
  {
   "cell_type": "code",
   "execution_count": 3,
   "id": "3dab22f6",
   "metadata": {},
   "outputs": [
    {
     "name": "stdout",
     "output_type": "stream",
     "text": [
      "chercher\ttech\n"
     ]
    }
   ],
   "source": [
    "print(\"chercher\\ttech\")"
   ]
  },
  {
   "cell_type": "code",
   "execution_count": 4,
   "id": "ce832732",
   "metadata": {},
   "outputs": [
    {
     "name": "stdout",
     "output_type": "stream",
     "text": [
      "This is\" symbol\n"
     ]
    }
   ],
   "source": [
    "print(\"This is\\\" symbol\")"
   ]
  },
  {
   "cell_type": "code",
   "execution_count": 5,
   "id": "cce3abe1",
   "metadata": {},
   "outputs": [
    {
     "name": "stdout",
     "output_type": "stream",
     "text": [
      "This is\\  symbol\n"
     ]
    }
   ],
   "source": [
    "3. What is the way to include backslash characters in a string?\n",
    "print(\"This is\\\\  symbol\")"
   ]
  },
  {
   "cell_type": "code",
   "execution_count": 6,
   "id": "43465aa9",
   "metadata": {},
   "outputs": [
    {
     "name": "stdout",
     "output_type": "stream",
     "text": [
      "Chercher\r",
      "Tech\n"
     ]
    }
   ],
   "source": [
    "print(\"Chercher\\rTech\")"
   ]
  },
  {
   "cell_type": "code",
   "execution_count": 7,
   "id": "f4a9df3b",
   "metadata": {},
   "outputs": [
    {
     "name": "stdout",
     "output_type": "stream",
     "text": [
      "CherCher\f",
      "Tech\n"
     ]
    }
   ],
   "source": [
    "print(\"CherCher\\fTech\")"
   ]
  },
  {
   "cell_type": "code",
   "execution_count": 8,
   "id": "1d307f2f",
   "metadata": {},
   "outputs": [
    {
     "name": "stdout",
     "output_type": "stream",
     "text": [
      "Hi\n"
     ]
    }
   ],
   "source": [
    "print(\"\\110\\151\")"
   ]
  },
  {
   "cell_type": "code",
   "execution_count": 9,
   "id": "19e2abb1",
   "metadata": {},
   "outputs": [
    {
     "name": "stdout",
     "output_type": "stream",
     "text": [
      "Hi\n"
     ]
    }
   ],
   "source": [
    "print(\"\\x48\\x69\")"
   ]
  },
  {
   "cell_type": "code",
   "execution_count": null,
   "id": "c29363ba",
   "metadata": {},
   "outputs": [],
   "source": [
    "4. The string \"Howl's Moving Castle\" is a correct value. Why isn't the single quote character in the word Howl's not escaped a problem?\n",
    "ans:This single quote character have within double quote at the first & last of the sentense,so it is correct.  \n"
   ]
  },
  {
   "cell_type": "code",
   "execution_count": 14,
   "id": "ab0c49b6",
   "metadata": {},
   "outputs": [
    {
     "name": "stdout",
     "output_type": "stream",
     "text": [
      "Object `character` not found.\n"
     ]
    }
   ],
   "source": [
    "5.How do you write a string of newlines if you don't want to use the n character?"
   ]
  },
  {
   "cell_type": "code",
   "execution_count": null,
   "id": "1bafcb39",
   "metadata": {},
   "outputs": [],
   "source": [
    "5.How do you write a string of newlines if you don't want to use the n character"
   ]
  },
  {
   "cell_type": "code",
   "execution_count": 15,
   "id": "6a51a7fe",
   "metadata": {},
   "outputs": [
    {
     "name": "stdout",
     "output_type": "stream",
     "text": [
      "chercher\n",
      "tech\n"
     ]
    }
   ],
   "source": [
    "print(\"chercher\\ntech\")"
   ]
  },
  {
   "cell_type": "code",
   "execution_count": null,
   "id": "f6d8b52d",
   "metadata": {},
   "outputs": [],
   "source": [
    "6. What are the values of the given expressions?\n",
    "'Hello, world!'[1]\n",
    "'Hello, world!'[0:5]\n",
    "'Hello, world!'[:5]\n",
    "'Hello, world!'[3:]\n"
   ]
  },
  {
   "cell_type": "code",
   "execution_count": 16,
   "id": "dddd216b",
   "metadata": {},
   "outputs": [
    {
     "name": "stdout",
     "output_type": "stream",
     "text": [
      "e\n"
     ]
    }
   ],
   "source": [
    "a='Hello, world!'\n",
    "print(a[1])"
   ]
  },
  {
   "cell_type": "code",
   "execution_count": 17,
   "id": "6ed13464",
   "metadata": {},
   "outputs": [
    {
     "name": "stdout",
     "output_type": "stream",
     "text": [
      "Hello\n"
     ]
    }
   ],
   "source": [
    "print(a[0:5])"
   ]
  },
  {
   "cell_type": "code",
   "execution_count": 18,
   "id": "889331a4",
   "metadata": {},
   "outputs": [
    {
     "name": "stdout",
     "output_type": "stream",
     "text": [
      "Hello\n"
     ]
    }
   ],
   "source": [
    "print(a[:5])"
   ]
  },
  {
   "cell_type": "code",
   "execution_count": 19,
   "id": "7edf1d8a",
   "metadata": {},
   "outputs": [
    {
     "name": "stdout",
     "output_type": "stream",
     "text": [
      "lo, world!\n"
     ]
    }
   ],
   "source": [
    "print(a[3:])"
   ]
  },
  {
   "cell_type": "code",
   "execution_count": null,
   "id": "20d52e45",
   "metadata": {},
   "outputs": [],
   "source": [
    "7. What are the values of the following expressions?\n",
    "'Hello'.upper()\n",
    "'Hello'.upper().isupper()\n",
    "'Hello'.upper().lower()\n"
   ]
  },
  {
   "cell_type": "code",
   "execution_count": 20,
   "id": "7bcd6a24",
   "metadata": {},
   "outputs": [
    {
     "data": {
      "text/plain": [
       "'HELLO'"
      ]
     },
     "execution_count": 20,
     "metadata": {},
     "output_type": "execute_result"
    }
   ],
   "source": [
    "'Hello'.upper()"
   ]
  },
  {
   "cell_type": "code",
   "execution_count": 21,
   "id": "564b8628",
   "metadata": {},
   "outputs": [
    {
     "data": {
      "text/plain": [
       "True"
      ]
     },
     "execution_count": 21,
     "metadata": {},
     "output_type": "execute_result"
    }
   ],
   "source": [
    "'Hello'.upper().isupper()"
   ]
  },
  {
   "cell_type": "code",
   "execution_count": 22,
   "id": "6b07b225",
   "metadata": {},
   "outputs": [
    {
     "data": {
      "text/plain": [
       "'hello'"
      ]
     },
     "execution_count": 22,
     "metadata": {},
     "output_type": "execute_result"
    }
   ],
   "source": [
    "'Hello'.upper().lower()"
   ]
  },
  {
   "cell_type": "code",
   "execution_count": null,
   "id": "d95af5a5",
   "metadata": {},
   "outputs": [],
   "source": [
    "8. What are the values of the following expressions?\n",
    "'Remember, remember, the fifth of July.'.split()\n",
    "'-'.join('There can only one.'.split())\n"
   ]
  },
  {
   "cell_type": "code",
   "execution_count": 23,
   "id": "21abfb51",
   "metadata": {},
   "outputs": [
    {
     "data": {
      "text/plain": [
       "['Remember,', 'remember,', 'the', 'fifth', 'of', 'July.']"
      ]
     },
     "execution_count": 23,
     "metadata": {},
     "output_type": "execute_result"
    }
   ],
   "source": [
    "'Remember, remember, the fifth of July.'.split()"
   ]
  },
  {
   "cell_type": "code",
   "execution_count": 24,
   "id": "e5f5be08",
   "metadata": {},
   "outputs": [
    {
     "data": {
      "text/plain": [
       "'There-can-only-one.'"
      ]
     },
     "execution_count": 24,
     "metadata": {},
     "output_type": "execute_result"
    }
   ],
   "source": [
    "'-'.join('There can only one.'.split())"
   ]
  },
  {
   "cell_type": "code",
   "execution_count": 25,
   "id": "cba472b4",
   "metadata": {},
   "outputs": [
    {
     "name": "stdout",
     "output_type": "stream",
     "text": [
      "Object `string` not found.\n"
     ]
    }
   ],
   "source": [
    "9. What are the methods for right-justifying, left-justifying, and centering a string?"
   ]
  },
  {
   "cell_type": "code",
   "execution_count": 45,
   "id": "27136109",
   "metadata": {},
   "outputs": [
    {
     "name": "stdout",
     "output_type": "stream",
     "text": [
      "The original string is : \n",
      " playing code with python \n",
      "\n"
     ]
    }
   ],
   "source": [
    "str = \"playing code with python\"\n",
    "  \n",
    "# Printing the original string\n",
    "print (\"The original string is : \\n\", cstr, \"\\n\")\n",
    "  "
   ]
  },
  {
   "cell_type": "code",
   "execution_count": 46,
   "id": "68901cba",
   "metadata": {},
   "outputs": [
    {
     "name": "stdout",
     "output_type": "stream",
     "text": [
      "The center aligned string is : \n",
      "                                      playing code with python                                       \n",
      "\n"
     ]
    }
   ],
   "source": [
    "# Printing the center aligned string \n",
    "print (\"The center aligned string is : \")\n",
    "print (str.center(100), \"\\n\")"
   ]
  },
  {
   "cell_type": "code",
   "execution_count": 47,
   "id": "0f7aced0",
   "metadata": {},
   "outputs": [
    {
     "name": "stdout",
     "output_type": "stream",
     "text": [
      "Center aligned string with fillchr: \n",
      "######################################playing code with python######################################\n"
     ]
    }
   ],
   "source": [
    "# Printing the center aligned \n",
    "# string with fillchr\n",
    "print (\"Center aligned string with fillchr: \")\n",
    "print (str.center(100, '#'))"
   ]
  },
  {
   "cell_type": "code",
   "execution_count": 48,
   "id": "67ae56a4",
   "metadata": {},
   "outputs": [
    {
     "name": "stdout",
     "output_type": "stream",
     "text": [
      "The left aligned string is : \n",
      "playing code with python----------------------------------------------------------------------------\n"
     ]
    }
   ],
   "source": [
    "# Printing the left aligned \n",
    "# string with \"-\" padding \n",
    "print (\"The left aligned string is : \")\n",
    "print (str.ljust(100, '-'))"
   ]
  },
  {
   "cell_type": "code",
   "execution_count": 49,
   "id": "7cdce4fc",
   "metadata": {},
   "outputs": [
    {
     "name": "stdout",
     "output_type": "stream",
     "text": [
      "The right aligned string is : \n",
      "----------------------------------------------------------------------------playing code with python\n"
     ]
    }
   ],
   "source": [
    "# Printing the right aligned string\n",
    "# with \"-\" padding \n",
    "print (\"The right aligned string is : \")\n",
    "print (str.rjust(100, '-'))"
   ]
  },
  {
   "cell_type": "code",
   "execution_count": 50,
   "id": "40df48b1",
   "metadata": {},
   "outputs": [
    {
     "name": "stdout",
     "output_type": "stream",
     "text": [
      "Object `end` not found.\n"
     ]
    }
   ],
   "source": [
    "10. What is the best way to remove whitespace characters from the start or end?"
   ]
  },
  {
   "cell_type": "code",
   "execution_count": null,
   "id": "2f6716de",
   "metadata": {},
   "outputs": [],
   "source": [
    "10. What is the best way to remove whitespace characters from the start or end"
   ]
  },
  {
   "cell_type": "code",
   "execution_count": 61,
   "id": "dbf260db",
   "metadata": {},
   "outputs": [
    {
     "data": {
      "text/plain": [
       "'Doing practices with python ,and started again with my best time'"
      ]
     },
     "execution_count": 61,
     "metadata": {},
     "output_type": "execute_result"
    }
   ],
   "source": [
    "str=\"             Doing practices with python ,and started again with my best time        \"\n",
    "str.strip()"
   ]
  },
  {
   "cell_type": "code",
   "execution_count": 62,
   "id": "079e3ba4",
   "metadata": {},
   "outputs": [
    {
     "data": {
      "text/plain": [
       "'Doing practices with python ,and started again with my best time        '"
      ]
     },
     "execution_count": 62,
     "metadata": {},
     "output_type": "execute_result"
    }
   ],
   "source": [
    "str.lstrip()"
   ]
  },
  {
   "cell_type": "code",
   "execution_count": 63,
   "id": "9b6b3324",
   "metadata": {},
   "outputs": [
    {
     "data": {
      "text/plain": [
       "'             Doing practices with python ,and started again with my best time'"
      ]
     },
     "execution_count": 63,
     "metadata": {},
     "output_type": "execute_result"
    }
   ],
   "source": [
    "str.rstrip()"
   ]
  },
  {
   "cell_type": "code",
   "execution_count": null,
   "id": "40211465",
   "metadata": {},
   "outputs": [],
   "source": []
  }
 ],
 "metadata": {
  "kernelspec": {
   "display_name": "Python 3 (ipykernel)",
   "language": "python",
   "name": "python3"
  },
  "language_info": {
   "codemirror_mode": {
    "name": "ipython",
    "version": 3
   },
   "file_extension": ".py",
   "mimetype": "text/x-python",
   "name": "python",
   "nbconvert_exporter": "python",
   "pygments_lexer": "ipython3",
   "version": "3.9.7"
  }
 },
 "nbformat": 4,
 "nbformat_minor": 5
}
