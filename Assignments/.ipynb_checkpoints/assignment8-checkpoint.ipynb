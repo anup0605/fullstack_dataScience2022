{
 "cells": [
  {
   "cell_type": "markdown",
   "id": "2d59b752",
   "metadata": {},
   "source": [
    "#### 1. Is the Python Standard Library included with PyInputPlus?\n",
    "\n",
    "PyInputPlus is a Python module used for taking inputs with additional validation features. PyInputPlus will keep asking the user for text until they enter valid input."
   ]
  },
  {
   "cell_type": "markdown",
   "id": "57147a4a",
   "metadata": {},
   "source": [
    "#### 2. Why is PyInputPlus commonly imported with import pyinputplus as pypi?\n",
    "we can import the module with import pyinputplus as pyip so that we can enter a shorter name when calling the module's functions. PyInputPlus has functions for entering a variety of input, including strings, numbers, dates, yes/no, True/False, emails, and files."
   ]
  },
  {
   "cell_type": "markdown",
   "id": "3b9061b8",
   "metadata": {},
   "source": [
    "### 3. How do you distinguish between inputInt() and inputFloat()?\n",
    " The inputFloat() function returns an integer, while the inputInt() function returns a float. The inputInt() function returns an integer, while the inputFloat() function returns a string value."
   ]
  },
  {
   "cell_type": "markdown",
   "id": "23a87568",
   "metadata": {},
   "source": [
    "#### 4. Using PyInputPlus, how do you ensure that the user enters a whole number between 0and 99?\n",
    "By using pyip.inputint(min=0, max=99)"
   ]
  },
  {
   "cell_type": "markdown",
   "id": "7300eccd",
   "metadata": {},
   "source": [
    "#### 5. What is transferred to the keyword arguments allowRegexes and blockRegexes?\n",
    " import pyinputplus as pyip\n",
    " response=pyip.inputNum(allowRegexes=[r'(I|V|X|L|C|D|M)+', r'zero'])\n",
    " response"
   ]
  },
  {
   "cell_type": "code",
   "execution_count": 7,
   "id": "a3434594",
   "metadata": {},
   "outputs": [
    {
     "name": "stdout",
     "output_type": "stream",
     "text": [
      "Requirement already satisfied: PyInputPlus in c:\\users\\anupk\\anaconda3\\lib\\site-packages (0.2.12)\n",
      "Requirement already satisfied: stdiomask>=0.0.3 in c:\\users\\anupk\\anaconda3\\lib\\site-packages (from PyInputPlus) (0.0.6)\n",
      "Requirement already satisfied: pysimplevalidate>=0.2.7 in c:\\users\\anupk\\anaconda3\\lib\\site-packages (from PyInputPlus) (0.2.12)\n"
     ]
    }
   ],
   "source": [
    "!pip install PyInputPlus"
   ]
  },
  {
   "cell_type": "code",
   "execution_count": 8,
   "id": "06374206",
   "metadata": {},
   "outputs": [],
   "source": [
    "import pyinputplus as pyip"
   ]
  },
  {
   "cell_type": "code",
   "execution_count": 9,
   "id": "7d00fc0f",
   "metadata": {},
   "outputs": [
    {
     "name": "stdout",
     "output_type": "stream",
     "text": [
      "g\n",
      "'g' is not a number.\n",
      "m\n",
      "'m' is not a number.\n",
      "M\n"
     ]
    },
    {
     "data": {
      "text/plain": [
       "'M'"
      ]
     },
     "execution_count": 9,
     "metadata": {},
     "output_type": "execute_result"
    }
   ],
   "source": [
    "response=pyip.inputNum(allowRegexes=[r'(I|V|X|L|C|D|M)+', r'zero'])\n",
    "response"
   ]
  },
  {
   "cell_type": "code",
   "execution_count": 10,
   "id": "ffa3023f",
   "metadata": {},
   "outputs": [
    {
     "name": "stdout",
     "output_type": "stream",
     "text": [
      "L\n"
     ]
    },
    {
     "data": {
      "text/plain": [
       "'L'"
      ]
     },
     "execution_count": 10,
     "metadata": {},
     "output_type": "execute_result"
    }
   ],
   "source": [
    "#x is not here\n",
    "response=pyip.inputNum(allowRegexes=[r'(I|V|L|C|D|M)+', r'zero'])\n",
    "response"
   ]
  },
  {
   "cell_type": "code",
   "execution_count": 13,
   "id": "b83d9ec7",
   "metadata": {},
   "outputs": [
    {
     "name": "stdout",
     "output_type": "stream",
     "text": [
      "7876587956\n",
      "This response is invalid.\n",
      "456\n",
      "This response is invalid.\n",
      "255\n"
     ]
    },
    {
     "data": {
      "text/plain": [
       "255"
      ]
     },
     "execution_count": 13,
     "metadata": {},
     "output_type": "execute_result"
    }
   ],
   "source": [
    "#blockRegexes\n",
    "response1 = pyip.inputNum(blockRegexes=[r'[02468]$'])\n",
    "response1"
   ]
  },
  {
   "cell_type": "code",
   "execution_count": 14,
   "id": "b1da3fc4",
   "metadata": {},
   "outputs": [
    {
     "name": "stdout",
     "output_type": "stream",
     "text": [
      "565\n"
     ]
    },
    {
     "data": {
      "text/plain": [
       "565"
      ]
     },
     "execution_count": 14,
     "metadata": {},
     "output_type": "execute_result"
    }
   ],
   "source": [
    "response2 = pyip.inputNum(blockRegexes=[r'[02468]$'])\n",
    "response2"
   ]
  },
  {
   "cell_type": "markdown",
   "id": "d2bcd42a",
   "metadata": {},
   "source": [
    "#### 6. If a blank input is entered three times, what does inputStr(limit=3) do?\n",
    " It will throw RetryLimitException exception."
   ]
  },
  {
   "cell_type": "code",
   "execution_count": null,
   "id": "e3c24936",
   "metadata": {},
   "outputs": [],
   "source": []
  }
 ],
 "metadata": {
  "kernelspec": {
   "display_name": "Python 3 (ipykernel)",
   "language": "python",
   "name": "python3"
  },
  "language_info": {
   "codemirror_mode": {
    "name": "ipython",
    "version": 3
   },
   "file_extension": ".py",
   "mimetype": "text/x-python",
   "name": "python",
   "nbconvert_exporter": "python",
   "pygments_lexer": "ipython3",
   "version": "3.9.12"
  }
 },
 "nbformat": 4,
 "nbformat_minor": 5
}
