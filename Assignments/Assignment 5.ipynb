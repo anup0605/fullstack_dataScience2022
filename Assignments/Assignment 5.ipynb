{
 "cells": [
  {
   "cell_type": "code",
   "execution_count": null,
   "id": "7664a040",
   "metadata": {},
   "outputs": [],
   "source": [
    "1. What does an empty dictionary's code look like?\n",
    "ans:{} as set data type but here 'name' of the item is empty."
   ]
  },
  {
   "cell_type": "code",
   "execution_count": null,
   "id": "9df470d8",
   "metadata": {},
   "outputs": [],
   "source": [
    "2. What is the value of a dictionary value with the key 'foo' and the value 42?\n",
    "ans:{'foo'=42}"
   ]
  },
  {
   "cell_type": "code",
   "execution_count": null,
   "id": "960756ac",
   "metadata": {},
   "outputs": [],
   "source": [
    "What is the most significant distinction between a dictionary and a list?\n",
    "ans:A Dictionary contain items with key & value pairs like={\"name\"=\"anup\"},duplicate of the key are not allow,here list is order sequence of objects. "
   ]
  },
  {
   "cell_type": "code",
   "execution_count": null,
   "id": "8771fb50",
   "metadata": {},
   "outputs": [],
   "source": [
    "4.What happens if you try to access spam [' foo '] If spam is {' bar ': 100?\n",
    "ans: it will response as  keyError,it will check this key are avialable or not.                                                              "
   ]
  },
  {
   "cell_type": "code",
   "execution_count": 1,
   "id": "7a0a6b9f",
   "metadata": {},
   "outputs": [
    {
     "ename": "KeyError",
     "evalue": "'foo'",
     "output_type": "error",
     "traceback": [
      "\u001b[1;31m---------------------------------------------------------------------------\u001b[0m",
      "\u001b[1;31mKeyError\u001b[0m                                  Traceback (most recent call last)",
      "\u001b[1;32m~\\AppData\\Local\\Temp/ipykernel_14308/1717283131.py\u001b[0m in \u001b[0;36m<module>\u001b[1;34m\u001b[0m\n\u001b[0;32m      1\u001b[0m \u001b[0mspam\u001b[0m\u001b[1;33m=\u001b[0m\u001b[1;33m{\u001b[0m\u001b[1;34m'bar'\u001b[0m\u001b[1;33m:\u001b[0m\u001b[1;36m100\u001b[0m\u001b[1;33m}\u001b[0m\u001b[1;33m\u001b[0m\u001b[1;33m\u001b[0m\u001b[0m\n\u001b[1;32m----> 2\u001b[1;33m \u001b[0mspam\u001b[0m\u001b[1;33m[\u001b[0m\u001b[1;34m'foo'\u001b[0m\u001b[1;33m]\u001b[0m\u001b[1;33m\u001b[0m\u001b[1;33m\u001b[0m\u001b[0m\n\u001b[0m",
      "\u001b[1;31mKeyError\u001b[0m: 'foo'"
     ]
    }
   ],
   "source": [
    "spam={'bar':100}\n",
    "spam['foo']"
   ]
  },
  {
   "cell_type": "code",
   "execution_count": 4,
   "id": "e6f9cad6",
   "metadata": {},
   "outputs": [
    {
     "data": {
      "text/plain": [
       "True"
      ]
     },
     "execution_count": 4,
     "metadata": {},
     "output_type": "execute_result"
    }
   ],
   "source": [
    "spam={'cat':100}\n",
    "'cat' in spam.keys()"
   ]
  },
  {
   "cell_type": "code",
   "execution_count": 5,
   "id": "c5c38902",
   "metadata": {},
   "outputs": [
    {
     "data": {
      "text/plain": [
       "False"
      ]
     },
     "execution_count": 5,
     "metadata": {},
     "output_type": "execute_result"
    }
   ],
   "source": [
    "spam={'cat':100}\n",
    "'cat' in spam.values()"
   ]
  },
  {
   "cell_type": "code",
   "execution_count": null,
   "id": "e1df33b0",
   "metadata": {},
   "outputs": [],
   "source": [
    "5. If a dictionary is stored in spam, what is the difference between the expressions 'cat' in spam and 'cat' in spam.keys()?\n",
    "ans:True"
   ]
  },
  {
   "cell_type": "code",
   "execution_count": null,
   "id": "acec59ae",
   "metadata": {},
   "outputs": [],
   "source": [
    "6. If a dictionary is stored in spam, what is the difference between the expressions 'cat' in spam and 'cat' in spam.values()?\n",
    "ans:False"
   ]
  },
  {
   "cell_type": "code",
   "execution_count": null,
   "id": "8f8ce8d1",
   "metadata": {},
   "outputs": [],
   "source": [
    "7. What is a shortcut for the following code?\n",
    "if 'color' not in spam:\n",
    "spam['color'] = 'black'\n"
   ]
  },
  {
   "cell_type": "code",
   "execution_count": 6,
   "id": "8206b0c8",
   "metadata": {},
   "outputs": [
    {
     "data": {
      "text/plain": [
       "{'cat': 100, 'color': 'black'}"
      ]
     },
     "execution_count": 6,
     "metadata": {},
     "output_type": "execute_result"
    }
   ],
   "source": [
    "spam={'cat':100}\n",
    "spam.setdefault('color','black')\n",
    "spam "
   ]
  },
  {
   "cell_type": "code",
   "execution_count": null,
   "id": "a6a9efa5",
   "metadata": {},
   "outputs": [],
   "source": [
    "8. How do you \"pretty print\" dictionary values using which module and function?"
   ]
  },
  {
   "cell_type": "code",
   "execution_count": 7,
   "id": "8f7b1c7b",
   "metadata": {},
   "outputs": [],
   "source": [
    "import pprint\n",
    "dct = [ {'Name': 'Vicco', 'Age': '23', 'Country': 'India'},\n",
    "  {'Name': 'Bajrya', 'Age': '44', 'Country': 'China'},\n",
    "  {'Name': 'Danti', 'Age': '29', 'Country': 'UK'},\n",
    "  {'Name': 'kolgate', 'Age': '50', 'Country': 'USA'}\n",
    "]"
   ]
  },
  {
   "cell_type": "code",
   "execution_count": 8,
   "id": "e01db082",
   "metadata": {},
   "outputs": [
    {
     "name": "stdout",
     "output_type": "stream",
     "text": [
      "[{'Age': '23', 'Country': 'India', 'Name': 'Vicco'},\n",
      " {'Age': '44', 'Country': 'China', 'Name': 'Bajrya'},\n",
      " {'Age': '29', 'Country': 'UK', 'Name': 'Danti'},\n",
      " {'Age': '50', 'Country': 'USA', 'Name': 'kolgate'}]\n"
     ]
    }
   ],
   "source": [
    "#printing with pprint()\n",
    "pprint.pprint(dct)"
   ]
  },
  {
   "cell_type": "code",
   "execution_count": 11,
   "id": "9fdaae33",
   "metadata": {},
   "outputs": [
    {
     "name": "stdout",
     "output_type": "stream",
     "text": [
      "[{'Name': 'Vicco', 'Age': '23', 'Country': 'India'}, {'Name': 'Bajrya', 'Age': '44', 'Country': 'China'}, {'Name': 'Danti', 'Age': '29', 'Country': 'UK'}, {'Name': 'kolgate', 'Age': '50', 'Country': 'USA'}]\n"
     ]
    }
   ],
   "source": [
    "#printing with print()\n",
    "print(dct)"
   ]
  },
  {
   "cell_type": "code",
   "execution_count": null,
   "id": "f3545ef1",
   "metadata": {},
   "outputs": [],
   "source": []
  }
 ],
 "metadata": {
  "kernelspec": {
   "display_name": "Python 3 (ipykernel)",
   "language": "python",
   "name": "python3"
  },
  "language_info": {
   "codemirror_mode": {
    "name": "ipython",
    "version": 3
   },
   "file_extension": ".py",
   "mimetype": "text/x-python",
   "name": "python",
   "nbconvert_exporter": "python",
   "pygments_lexer": "ipython3",
   "version": "3.9.7"
  }
 },
 "nbformat": 4,
 "nbformat_minor": 5
}
