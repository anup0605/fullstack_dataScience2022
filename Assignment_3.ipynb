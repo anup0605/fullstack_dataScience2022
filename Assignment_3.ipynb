{
 "cells": [
  {
   "cell_type": "code",
   "execution_count": null,
   "id": "f94e2063",
   "metadata": {},
   "outputs": [],
   "source": [
    "1. Why are functions advantageous to have in your programs?\n",
    "\n",
    "ans:Functions reduce the need for duplicate code. This makes programs shorter, easier to read, and easier to update."
   ]
  },
  {
   "cell_type": "code",
   "execution_count": null,
   "id": "f5b5a77f",
   "metadata": {},
   "outputs": [],
   "source": [
    "2. When does the code in a function run: when it's specified or when it called?\n",
    "    \n",
    "ans:A Function in Python is a piece of code which runs when it is referenced. It is used to utilize the code in more than one place in a program. It is also called method or procedure."
   ]
  },
  {
   "cell_type": "code",
   "execution_count": null,
   "id": "dd749aa2",
   "metadata": {},
   "outputs": [],
   "source": [
    "3. What statement creates a function?\n",
    "ans:The “def” keyword is a statement for defining a function in Python. You start a function with the def keyword, specify a name followed by a colon (:) sign. The “def” call creates the function object and assigns it to the name given. You can further re-assign the same function object to other names.\n",
    "    syntax:\n",
    "        def functionname( parameters ):\n",
    "             \"function_docstring\"\n",
    "              function_suite\n",
    "             return [expression]"
   ]
  },
  {
   "cell_type": "code",
   "execution_count": null,
   "id": "d7dc1294",
   "metadata": {},
   "outputs": [],
   "source": [
    "4. What is the difference between a function and a function call?\n",
    "ans:A function is a block of code that does a particular operation and returns a result. It usually accepts inputs as parameters and returns a result. The parameters are not mandatory. A function call is the code used to pass control to a function"
   ]
  },
  {
   "cell_type": "code",
   "execution_count": null,
   "id": "b60a6a0e",
   "metadata": {},
   "outputs": [],
   "source": [
    "5. How many global scopes are there in a Python program? How many local scopes?\n",
    "ans:When used an unqualified name inside a function, Python searches three scopes—the local (L), then the global (G), and then the built-in (B)—and stops at the first place the name is found.\n",
    "      There's only one global Python scope per program execution\n",
    "      There can be any number of local Python scope per program execution"
   ]
  },
  {
   "cell_type": "code",
   "execution_count": null,
   "id": "a98b09b2",
   "metadata": {},
   "outputs": [],
   "source": [
    "6. What happens to variables in a local scope when the function call returns?\n",
    "A local variable retains its value until the next time the function is called A local variable becomes undefined after the function call completes The local variable can be used outside the function any time after the function call completes"
   ]
  },
  {
   "cell_type": "code",
   "execution_count": null,
   "id": "2d1a2d49",
   "metadata": {},
   "outputs": [],
   "source": [
    "7.What is the concept of a return value? Is it possible to have a return value in an expression?\n",
    "\n",
    "ans:The Python return statement is a key component of functions and methods. You can use the return statement to make your functions send Python objects back to the caller code. These objects are known as the function’s return value. You can use them to perform further computation in your programs.\n",
    "Using the return statement effectively is a core skill if you want to code custom functions that are Pythonic and robust.\n",
    "Yes it is possible to have a return value in an expression"
   ]
  },
  {
   "cell_type": "code",
   "execution_count": 1,
   "id": "12b41fd3",
   "metadata": {},
   "outputs": [
    {
     "name": "stdout",
     "output_type": "stream",
     "text": [
      "Result of add function is 5\n",
      "\n",
      "Result of is_true function is True\n"
     ]
    }
   ],
   "source": [
    "# Python program to\n",
    "# demonstrate return statement\n",
    "\n",
    "def add(a, b):\n",
    "\n",
    "\t# returning sum of a and b\n",
    "\treturn a + b\n",
    "\n",
    "def is_true(a):\n",
    "\n",
    "\t# returning boolean of a\n",
    "\treturn bool(a)\n",
    "\n",
    "# calling function\n",
    "res = add(2, 3)\n",
    "print(\"Result of add function is {}\".format(res))\n",
    "\n",
    "res = is_true(2<5)\n",
    "print(\"\\nResult of is_true function is {}\".format(res))\n"
   ]
  },
  {
   "cell_type": "code",
   "execution_count": null,
   "id": "8afb9e64",
   "metadata": {},
   "outputs": [],
   "source": [
    "8. If a function does not have a return statement, what is the return value of a call to that function?\n",
    "ans:If a function doesn't specify a return value, it returns None "
   ]
  },
  {
   "cell_type": "code",
   "execution_count": null,
   "id": "b37cf40a",
   "metadata": {},
   "outputs": [],
   "source": [
    "9. How do you make a function variable refer to the global variable?\n",
    "\n",
    "ans:use the global keyword to declare which variables are global."
   ]
  },
  {
   "cell_type": "code",
   "execution_count": null,
   "id": "08d32b8b",
   "metadata": {},
   "outputs": [],
   "source": [
    "10. What is the data type of None?\n",
    "ans:None is a data type of its own (NoneType),None is special data type in python,one is used to define a null value. It is not the same as an empty string, False, or a zero. It is a data type of the class NoneType object. Assigning a value of None to a variable is one way to reset it to its original, empty state."
   ]
  },
  {
   "cell_type": "code",
   "execution_count": null,
   "id": "a67c75e9",
   "metadata": {},
   "outputs": [],
   "source": [
    "11. What does the sentence import areallyourpetsnamederic do?\n",
    "ans:It will import the libaray name areallyourpetsnamederic."
   ]
  },
  {
   "cell_type": "code",
   "execution_count": null,
   "id": "0a40d2d3",
   "metadata": {},
   "outputs": [],
   "source": [
    "12. If you had a bacon() feature in a spam module, what would you call it after importing spam?\n",
    "ans:This function can be called with spam.bacon().\n"
   ]
  },
  {
   "cell_type": "code",
   "execution_count": null,
   "id": "117582fe",
   "metadata": {},
   "outputs": [],
   "source": [
    "13. What can you do to save a programme from crashing if it encounters an error?\n",
    "  ans:def int_input(prompt):\n",
    "    while True:\n",
    "        try:\n",
    "            age = int(input(prompt))\n",
    "            return age\n",
    "        except ValueError as e:\n",
    "            print(\"Not a proper integer! Try it again\")\n",
    "   \n",
    "Try running the program and it should throw an error message instead of crashing the program. The reason for the exception is also returned as an exception message. In the above code, we have handled the file reading inside an IOError exception handler"
   ]
  },
  {
   "cell_type": "code",
   "execution_count": null,
   "id": "646dfb90",
   "metadata": {},
   "outputs": [],
   "source": [
    "14. What is the purpose of the try clause? What is the purpose of the except clause?\n",
    "ans:In the try clause, all statements are executed until an exception is encountered. except is used to catch and handle the exception(s) that are encountered in the try clause. else lets you code sections that should run only when no exceptions are encountered in the try clause."
   ]
  }
 ],
 "metadata": {
  "kernelspec": {
   "display_name": "Python 3 (ipykernel)",
   "language": "python",
   "name": "python3"
  },
  "language_info": {
   "codemirror_mode": {
    "name": "ipython",
    "version": 3
   },
   "file_extension": ".py",
   "mimetype": "text/x-python",
   "name": "python",
   "nbconvert_exporter": "python",
   "pygments_lexer": "ipython3",
   "version": "3.9.7"
  }
 },
 "nbformat": 4,
 "nbformat_minor": 5
}
