{
 "cells": [
  {
   "cell_type": "code",
   "execution_count": null,
   "id": "53445474",
   "metadata": {},
   "outputs": [],
   "source": [
    "1. What exactly is []?\n",
    "ans:The empty list value, which is a list value that contains no items. This is similar to how '' is the empty string value."
   ]
  },
  {
   "cell_type": "code",
   "execution_count": null,
   "id": "9422bb3a",
   "metadata": {},
   "outputs": [],
   "source": [
    "2. In a list of values stored in a variable called spam, how would you assign the value \"hello\"; as the\n",
    "third value? (Assume [2, 4, 6, 8, 10] are in spam.)\n",
    "Let's pretend the spam includes the list ['a','b','c','d'] for the next three queries.\n",
    "\n",
    "ans:spam[2]='hello'"
   ]
  },
  {
   "cell_type": "code",
   "execution_count": null,
   "id": "6df956bb",
   "metadata": {},
   "outputs": [],
   "source": [
    "What does spam[int('3' * 2) / 11] evaluate to?\n",
    "\n",
    "For this question, let's say spam contains the list ['a', 'b', 'c', 'd'].\n",
    "ans:'d'(value of index[3])   ('3'*2='33')  int('33'/11)=3"
   ]
  },
  {
   "cell_type": "code",
   "execution_count": null,
   "id": "f8710b0b",
   "metadata": {},
   "outputs": [],
   "source": [
    "4. What is the value of spam[-1]?\n",
    "ans:'d'"
   ]
  },
  {
   "cell_type": "code",
   "execution_count": null,
   "id": "bf27ee74",
   "metadata": {},
   "outputs": [],
   "source": [
    "5. What is the value of spam[:2]?\n",
    "ans:['a','b']"
   ]
  },
  {
   "cell_type": "code",
   "execution_count": null,
   "id": "2de98f6a",
   "metadata": {},
   "outputs": [],
   "source": [
    "6.What does bacon.index('cat') evaluate to?\n",
    "For next 3 question, let's say bacon contains the list [3.14, 'cat', 11, 'cat', True].\n",
    "\n",
    "ans:1"
   ]
  },
  {
   "cell_type": "code",
   "execution_count": null,
   "id": "93bddff9",
   "metadata": {},
   "outputs": [],
   "source": [
    "7.How does bacon.append(99) change the look of the list value in bacon?\n",
    "ans:[3.14, 'cat', 11, 'cat', True, 99]"
   ]
  },
  {
   "cell_type": "code",
   "execution_count": null,
   "id": "4bb6dde9",
   "metadata": {},
   "outputs": [],
   "source": [
    "What does bacon.remove('cat') make the list value in bacon look like?\n",
    "ans:[3.14,11, 'cat', True, 99]\n"
   ]
  },
  {
   "cell_type": "code",
   "execution_count": null,
   "id": "2a021a43",
   "metadata": {},
   "outputs": [],
   "source": [
    "9. What are the list concatenation and list replication operators?\n",
    "ans:The operator for list concatenation is +, while the operator for replication is *"
   ]
  },
  {
   "cell_type": "code",
   "execution_count": null,
   "id": "81a46431",
   "metadata": {},
   "outputs": [],
   "source": [
    "10. What is difference between the list methods append() and insert()?\n",
    "ans:While append() will add values only to the end of a list, insert() can add them anywhere in the list."
   ]
  },
  {
   "cell_type": "code",
   "execution_count": null,
   "id": "ba4b1a71",
   "metadata": {},
   "outputs": [],
   "source": [
    "11. What are the two methods for removing items from a list?\n",
    "ans:remove()\tIt helps to remove the very first given element matching from the list.\n",
    "    pop()\tThe pop() method removes an element from the list based on the index given.\n"
   ]
  },
  {
   "cell_type": "code",
   "execution_count": null,
   "id": "0122e79a",
   "metadata": {},
   "outputs": [],
   "source": [
    "12. Describe how list values and string values are identical.\n",
    "ans:The similarity between Lists and Strings in Python is that both are sequences. The differences between them are that firstly, Lists are mutable but Strings are immutable. \n",
    "    Secondly, elements of a list can be of different types whereas a String only contains characters that are all of String type"
   ]
  },
  {
   "cell_type": "code",
   "execution_count": null,
   "id": "ac09c9cc",
   "metadata": {},
   "outputs": [],
   "source": [
    "13. What's the difference between tuples and lists?\n",
    "ans:The key difference between the tuples and lists is that while the tuples are immutable objects the lists are mutable. This means that tuples cannot be changed while the lists can be modified. \n",
    "    Tuples are more memory efficient than the lists."
   ]
  },
  {
   "cell_type": "code",
   "execution_count": null,
   "id": "893f641b",
   "metadata": {},
   "outputs": [],
   "source": [
    "14. How do you type a tuple value that only contains the integer 42?\n",
    "ans: (42,) (The trailing comma is mandatory.)\n"
   ]
  },
  {
   "cell_type": "code",
   "execution_count": null,
   "id": "9643651e",
   "metadata": {},
   "outputs": [],
   "source": [
    "15. How do you get a list values tuple from? \n",
    "       \n",
    "#  using map() function:\n",
    "# create a list with name\n",
    "name = [['sravan'], ['ojaswi'], ['bobby'], \n",
    "        ['rohith'], ['gnanesh']]\n",
    "  \n",
    "# create list of tuple using above \n",
    "# list using map function\n",
    "data = list(map(tuple, name))\n",
    "  \n",
    "# display data\n",
    "data\n",
    "\n",
    "\n",
    "How do you get a tuple value's list form?\n",
    "\n",
    "# create a list of names\n",
    "names = ['sravan', 'bobby', 'ojaswi', 'rohith', 'gnanesh']\n",
    "  \n",
    "# create a list of subjects\n",
    "subjects = ['java', 'python', 'R', 'cpp', 'bigdata']\n",
    "  \n",
    "# create a list of marks\n",
    "marks = [78, 100, 97, 89, 80]\n",
    "  \n",
    "# use enumerate() and zip() function\n",
    "# to iterate the lists\n",
    "for i, (names, subjects, marks) in enumerate(zip(names, subjects, marks)):\n",
    "    print(i, names, subjects, marks)"
   ]
  },
  {
   "cell_type": "code",
   "execution_count": null,
   "id": "8fd9346b",
   "metadata": {},
   "outputs": [],
   "source": [
    "16.Variables that contain; list values are not necessarily lists themselves. Instead, what do they contain?\n",
    "ans:Variables will contain references to list values rather than list values themselves. But for strings and integer values, variables simply contain the string or integer value."
   ]
  },
  {
   "cell_type": "code",
   "execution_count": null,
   "id": "503f26ea",
   "metadata": {},
   "outputs": [],
   "source": [
    "17. How do you distinguish between copy.copy() and copy.deepcopy()?\n",
    "\n",
    "ans:copy() create reference to original object. If you change copied object - you change the original object.\n",
    "    deepcopy() creates new object and does real copying of original object to new one. \n",
    "    Changing new deepcopied object doesn't affect original object."
   ]
  }
 ],
 "metadata": {
  "kernelspec": {
   "display_name": "Python 3 (ipykernel)",
   "language": "python",
   "name": "python3"
  },
  "language_info": {
   "codemirror_mode": {
    "name": "ipython",
    "version": 3
   },
   "file_extension": ".py",
   "mimetype": "text/x-python",
   "name": "python",
   "nbconvert_exporter": "python",
   "pygments_lexer": "ipython3",
   "version": "3.9.7"
  }
 },
 "nbformat": 4,
 "nbformat_minor": 5
}
