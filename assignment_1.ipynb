{
 "cells": [
  {
   "cell_type": "code",
   "execution_count": null,
   "id": "22dc4751",
   "metadata": {},
   "outputs": [],
   "source": [
    "1. In the below elements which of them are values or an expression? eg:- values can be\n",
    "integer or string and expressions will be mathematical operators.\n",
    "*\n",
    "'hello';\n",
    "-87.8\n",
    "-\n",
    "/\n",
    "+\n",
    "6\n",
    "Ans:\n",
    "   @)Values-     6(integer),-87.8(float)\n",
    "     Expression-  *,-,/,+\n",
    "     string- 'hello'"
   ]
  },
  {
   "cell_type": "code",
   "execution_count": null,
   "id": "c8b7233b",
   "metadata": {},
   "outputs": [],
   "source": [
    "2.What is the difference between string and variable?\n",
    "\n",
    "   @)Strings are tha data,we can use as variable.variable can store the data in a program."
   ]
  },
  {
   "cell_type": "code",
   "execution_count": null,
   "id": "4138a6fd",
   "metadata": {},
   "outputs": [],
   "source": [
    "3.Describe three different data types.\n",
    "  @)normally two types -\n",
    "         fundamental(int,float,str,complex,bool)=5\n",
    "         collection(list,tuple,range,dict,set,frozenset,byte,bytearray & none)=9\n",
    "            \n",
    "            @according to categories:\n",
    "\n",
    "   text type - str\n",
    "   Numeric   - int,float,complex\n",
    "   Sequence  - list,tuple,range\n",
    "   Mapping   - dict\n",
    "   Set       - set,frozenset\n",
    "   Boolean   - bool\n",
    "   Binary    -bytes,bytesarray\n",
    "   None      -None"
   ]
  },
  {
   "cell_type": "code",
   "execution_count": null,
   "id": "d3db3eb0",
   "metadata": {},
   "outputs": [],
   "source": [
    "4.What is an expression made up of? What do all expressions do?\n",
    "\n",
    "  @)An expression is a construct made up of variables, operators, and method invocations.  \n",
    "      which are constructed according to the syntax of the language, that evaluates to a single value."
   ]
  },
  {
   "cell_type": "code",
   "execution_count": null,
   "id": "fa0e983b",
   "metadata": {},
   "outputs": [],
   "source": [
    "5.  This assignment statements, like spam = 10. What is the difference between an\n",
    "expression and a statement?\n",
    "\n",
    "  @)Expression is made up of values,containers & mathemetical operands & statement is just like a command that a pythonminterpreter execute like print.\n"
   ]
  },
  {
   "cell_type": "code",
   "execution_count": null,
   "id": "294d8555",
   "metadata": {},
   "outputs": [],
   "source": [
    "6. After running the following code, what does the variable bacon contain?\n",
    "bacon = 22\n",
    "bacon + 1\n",
    "  @)bacon=23"
   ]
  },
  {
   "cell_type": "code",
   "execution_count": null,
   "id": "8636eaeb",
   "metadata": {},
   "outputs": [],
   "source": [
    "7. What should the values of the following two terms be?\n",
    "\"39\" + \"spamspam\";\n",
    "'spam' * 3\n",
    "  @)>>> 39spamspam\n",
    "   >>>  spamspamspam"
   ]
  },
  {
   "cell_type": "code",
   "execution_count": null,
   "id": "779a5b6e",
   "metadata": {},
   "outputs": [],
   "source": [
    "8.Why is eggs a valid variable name while 100 is invalid?\n",
    "   @)Variable names cannot begin with a number.\n"
   ]
  },
  {
   "cell_type": "code",
   "execution_count": null,
   "id": "eebfb268",
   "metadata": {},
   "outputs": [],
   "source": [
    "9. What three functions can be used to get the integer, floating-point number, or string\n",
    "version of a value?\n",
    "    @)int(),float() & str()\n"
   ]
  },
  {
   "cell_type": "code",
   "execution_count": null,
   "id": "f67e2f45",
   "metadata": {},
   "outputs": [],
   "source": [
    "10.Why does this expression cause an error? How can you fix it?\n",
    "      'I have eaten' + 99 + 'burritos.';\n",
    "   @)99 is an integer & only strings can be concatenated to other strings with the + operator."
   ]
  }
 ],
 "metadata": {
  "kernelspec": {
   "display_name": "Python 3 (ipykernel)",
   "language": "python",
   "name": "python3"
  },
  "language_info": {
   "codemirror_mode": {
    "name": "ipython",
    "version": 3
   },
   "file_extension": ".py",
   "mimetype": "text/x-python",
   "name": "python",
   "nbconvert_exporter": "python",
   "pygments_lexer": "ipython3",
   "version": "3.9.7"
  }
 },
 "nbformat": 4,
 "nbformat_minor": 5
}
